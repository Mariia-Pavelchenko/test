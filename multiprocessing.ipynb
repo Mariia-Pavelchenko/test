{
 "cells": [
  {
   "cell_type": "code",
   "execution_count": 33,
   "metadata": {},
   "outputs": [
    {
     "name": "stdout",
     "output_type": "stream",
     "text": [
      "<class 'int'>\n",
      "range(0, 5)\n",
      "0.10419225692749023\n"
     ]
    }
   ],
   "source": [
    "import numpy as np\n",
    "import time\n",
    "from multiprocessing.dummy import Pool\n",
    "a=np.zeros(5)\n",
    "index=range(len(a))\n",
    "def power(x):\n",
    "    a[x]=x**x\n",
    "\n",
    "start=time.time()\n",
    "if __name__ == '__main__':\n",
    "    pool = Pool()\n",
    "    result=pool.map(power, index)\n",
    "    pool.close()\n",
    "    pool.join()\n",
    "finish=time.time()\n",
    "print(type(index[1]))\n",
    "print(index)\n",
    "print(finish-start)"
   ]
  },
  {
   "cell_type": "code",
   "execution_count": null,
   "metadata": {},
   "outputs": [],
   "source": [
    "import multiprocessing as mp\n",
    "\n",
    "def my_func(x):\n",
    "    print(x**x)\n",
    "\n",
    "def main():\n",
    "    pool = mp.Pool(mp.cpu_count())\n",
    "    result = pool.map(my_func, [4,2,3])\n",
    "\n",
    "if __name__ == \"__main__\":\n",
    "    main()"
   ]
  },
  {
   "cell_type": "code",
   "execution_count": null,
   "metadata": {},
   "outputs": [],
   "source": [
    "a=range(4)\n",
    "print(type(a[1]))"
   ]
  },
  {
   "cell_type": "code",
   "execution_count": null,
   "metadata": {},
   "outputs": [],
   "source": []
  }
 ],
 "metadata": {
  "kernelspec": {
   "display_name": "Python 3",
   "language": "python",
   "name": "python3"
  },
  "language_info": {
   "codemirror_mode": {
    "name": "ipython",
    "version": 3
   },
   "file_extension": ".py",
   "mimetype": "text/x-python",
   "name": "python",
   "nbconvert_exporter": "python",
   "pygments_lexer": "ipython3",
   "version": "3.7.1"
  }
 },
 "nbformat": 4,
 "nbformat_minor": 2
}
